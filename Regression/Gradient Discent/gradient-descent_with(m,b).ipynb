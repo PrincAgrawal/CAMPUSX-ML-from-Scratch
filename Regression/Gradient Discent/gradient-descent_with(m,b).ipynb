{
 "cells": [
  {
   "cell_type": "code",
   "execution_count": 71,
   "metadata": {},
   "outputs": [],
   "source": [
    "import numpy as np\n",
    "from sklearn.datasets import make_regression\n",
    "import matplotlib.pyplot as plt\n",
    "from sklearn.model_selection import cross_val_score"
   ]
  },
  {
   "cell_type": "code",
   "execution_count": 72,
   "metadata": {},
   "outputs": [],
   "source": [
    "x,y=make_regression(n_samples=100,n_features=1,n_informative=1,n_targets=1,noise=20)"
   ]
  },
  {
   "cell_type": "code",
   "execution_count": 73,
   "metadata": {},
   "outputs": [
    {
     "data": {
      "text/plain": [
       "<matplotlib.collections.PathCollection at 0x16a122b84a0>"
      ]
     },
     "execution_count": 73,
     "metadata": {},
     "output_type": "execute_result"
    },
    {
     "data": {
      "image/png": "[encoded data removed]",
      "text/plain": [
       "<Figure size 640x480 with 1 Axes>"
      ]
     },
     "metadata": {},
     "output_type": "display_data"
    }
   ],
   "source": [
    "plt.scatter(x,y)"
   ]
  },
  {
   "cell_type": "code",
   "execution_count": 74,
   "metadata": {},
   "outputs": [],
   "source": [
    "from sklearn.linear_model import LinearRegression\n",
    "lr=LinearRegression()"
   ]
  },
  {
   "cell_type": "code",
   "execution_count": 75,
   "metadata": {},
   "outputs": [
    {
     "name": "stdout",
     "output_type": "stream",
     "text": [
      "[78.46753902]\n",
      "-0.5225301404336662\n"
     ]
    }
   ],
   "source": [
    "lr.fit(x,y)\n",
    "print(lr.coef_)\n",
    "print(lr.intercept_)"
   ]
  },
  {
   "cell_type": "code",
   "execution_count": 76,
   "metadata": {},
   "outputs": [
    {
     "data": {
      "text/plain": [
       "0.8909707281551033"
      ]
     },
     "execution_count": 76,
     "metadata": {},
     "output_type": "execute_result"
    }
   ],
   "source": [
    "np.mean(cross_val_score(lr,x,y,scoring='r2',cv=10))"
   ]
  },
  {
   "cell_type": "code",
   "execution_count": null,
   "metadata": {},
   "outputs": [],
   "source": []
  },
  {
   "cell_type": "code",
   "execution_count": 77,
   "metadata": {},
   "outputs": [],
   "source": [
    "class GDRegression:\n",
    "\n",
    "    def __init__(self,learning_rate,epochs):\n",
    "        self.m=100\n",
    "        self.b=-120\n",
    "        self.lr=learning_rate\n",
    "        self.epochs=epochs\n",
    "    \n",
    "    def fit(self,x,y):\n",
    "        # calculate b using GD\n",
    "        for i in range(self.epochs):\n",
    "            loss_slope_b = -2 * np.sum(y - self.m*x.ravel() - self.b)\n",
    "            loss_slope_m = -2 * np.sum(y - self.m*x.ravel() - self.b)*x.ravel()\n",
    "            self.b = self.b - (self.lr * loss_slope_b)\n",
    "            self.m = self.m - (self.lr * loss_slope_m)\n",
    "            \n",
    "        print(self.m,self.b)"
   ]
  },
  {
   "cell_type": "code",
   "execution_count": 93,
   "metadata": {},
   "outputs": [],
   "source": [
    "gd=GDRegression(0.001,10)"
   ]
  },
  {
   "cell_type": "code",
   "execution_count": 94,
   "metadata": {},
   "outputs": [
    {
     "name": "stdout",
     "output_type": "stream",
     "text": [
      "[115.04861586  73.79493415  -7.66788766 154.4627062  -63.90504261\n",
      " 131.79440454 156.97680249  91.58336033 147.90905883 153.33223654\n",
      " 149.36076435  37.38897455  52.14545235 159.11170354  65.80057943\n",
      " 121.91994234  30.20448612  95.22575782  56.88058537  47.3458894\n",
      "  76.20799952  73.30154703 123.73298759 192.79298428  67.61588506\n",
      "   9.24501092 113.07649226 179.19534573  69.41944864   6.11745982\n",
      "  49.98915855 153.29098202  60.33711085  67.74003591 153.46735258\n",
      " 104.60274573 132.517997   201.600895   211.01309072 119.73848458\n",
      " 108.78298685  51.91217804  99.47121557  92.15640143  97.60877462\n",
      " 193.81759051 103.32340712  84.33054002  44.9273255   93.99840774\n",
      "  31.08181107  67.53032641 120.356206    86.32013672  11.83104824\n",
      " 221.11430791  72.83682142  44.04322315 150.16744604  21.52287862\n",
      "  73.12065898 181.33498663 131.07378447 191.14360061  67.18265427\n",
      "  14.85043227  81.8052401  190.73170779  49.12245392 115.18092025\n",
      "  71.35462615 -74.16896962   0.70881181  48.64808391  92.20223157\n",
      " -36.48053114  92.14015137  93.72631312 153.82821377 202.12319605\n",
      " 125.18195647 176.83668442  91.58303825 148.1705189  -13.8581069\n",
      "  78.68815595  35.11829416 134.0658814  160.08781878 169.98019487\n",
      "  58.61987205  82.38398899 138.95129427 131.90415371  57.9857691\n",
      "  64.93146097 119.88549661  31.13434509 102.1487612  131.28900348] -60.94087107073158\n"
     ]
    }
   ],
   "source": [
    "gd.fit(x,y)"
   ]
  },
  {
   "cell_type": "code",
   "execution_count": null,
   "metadata": {},
   "outputs": [],
   "source": []
  },
  {
   "cell_type": "code",
   "execution_count": null,
   "metadata": {},
   "outputs": [],
   "source": []
  }
 ],
 "metadata": {
  "kernelspec": {
   "display_name": "Python 3",
   "language": "python",
   "name": "python3"
  },
  "language_info": {
   "codemirror_mode": {
    "name": "ipython",
    "version": 3
   },
   "file_extension": ".py",
   "mimetype": "text/x-python",
   "name": "python",
   "nbconvert_exporter": "python",
   "pygments_lexer": "ipython3",
   "version": "3.12.0"
  }
 },
 "nbformat": 4,
 "nbformat_minor": 2
}
